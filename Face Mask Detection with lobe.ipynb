{
 "cells": [
  {
   "cell_type": "markdown",
   "id": "4b629955",
   "metadata": {},
   "source": [
    "# Face Mask Detection"
   ]
  },
  {
   "cell_type": "code",
   "execution_count": 8,
   "id": "200f08e8",
   "metadata": {},
   "outputs": [
    {
     "name": "stdout",
     "output_type": "stream",
     "text": [
      "predicted label:\tMask\n",
      "confidence:\t\t1\n"
     ]
    }
   ],
   "source": [
    "import base64\n",
    "import requests\n",
    "\n",
    "# Save string of image file path below \"path/to/image.jpg\"\n",
    "img_filepath = 'C:/Users/juliy/Documents/Projects/Data Analysst Applications/Sync/train/with_mask/3-ply-tie-on-surgical-mask-yellow-500x500.jpg'\n",
    "\n",
    "# Create base64 encoded string\n",
    "with open(img_filepath, \"rb\") as f:\n",
    "    image_string = base64.b64encode(f.read()).decode(\"utf-8\")\n",
    "\n",
    "# Get response from POST request\n",
    "response = requests.post(\n",
    "    url=\"http://localhost:38101/v1/predict/1cecd0ab-7470-443a-854a-ee071fa816dd\",\n",
    "    json={\"image\": image_string},\n",
    ")\n",
    "data = response.json()\n",
    "top_prediction = data[\"predictions\"][0]\n",
    "\n",
    "# Print the top predicted label and its confidence\n",
    "print(\"predicted label:\\t{}\\nconfidence:\\t\\t{}\"\n",
    "      .format(top_prediction[\"label\"], top_prediction[\"confidence\"]))"
   ]
  },
  {
   "cell_type": "code",
   "execution_count": null,
   "id": "f6a9b157",
   "metadata": {},
   "outputs": [],
   "source": []
  }
 ],
 "metadata": {
  "kernelspec": {
   "display_name": "Python 3 (ipykernel)",
   "language": "python",
   "name": "python3"
  },
  "language_info": {
   "codemirror_mode": {
    "name": "ipython",
    "version": 3
   },
   "file_extension": ".py",
   "mimetype": "text/x-python",
   "name": "python",
   "nbconvert_exporter": "python",
   "pygments_lexer": "ipython3",
   "version": "3.9.15"
  }
 },
 "nbformat": 4,
 "nbformat_minor": 5
}
